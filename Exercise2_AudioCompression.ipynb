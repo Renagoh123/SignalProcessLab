{
  "cells": [
    {
      "cell_type": "markdown",
      "metadata": {},
      "source": [
        "## Audio Compression and Preprocessing"
      ]
    },
    {
      "cell_type": "markdown",
      "metadata": {
        "id": "DFZU-vlLteQ1"
      },
      "source": [
        "Import libraries"
      ]
    },
    {
      "cell_type": "code",
      "execution_count": 1,
      "metadata": {
        "id": "n1shJj7-taz0"
      },
      "outputs": [],
      "source": [
        "import scipy.io.wavfile as wav\n",
        "import numpy as np\n",
        "import os"
      ]
    },
    {
      "cell_type": "markdown",
      "metadata": {
        "id": "CC7-dIz-mbOM"
      },
      "source": [
        "Inspect the WAV file sample data"
      ]
    },
    {
      "cell_type": "code",
      "execution_count": 2,
      "metadata": {
        "colab": {
          "base_uri": "https://localhost:8080/"
        },
        "id": "g41Z7yN5qraM",
        "outputId": "1996362d-84d8-42c5-d4b5-9b82564ad236"
      },
      "outputs": [
        {
          "name": "stdout",
          "output_type": "stream",
          "text": [
            "Sound1.wav file metadata:\n",
            "Data type: int16\n",
            "Min value: -7416\n",
            "Max value: 7897\n"
          ]
        }
      ],
      "source": [
        "sample_rate, data = wav.read(\"Sound1.wav\")\n",
        "print(\"Sound1.wav file metadata:\")\n",
        "print(\"Data type:\", data.dtype)\n",
        "print(\"Min value:\", data.min())\n",
        "print(\"Max value:\", data.max())"
      ]
    },
    {
      "cell_type": "code",
      "execution_count": 4,
      "metadata": {
        "colab": {
          "base_uri": "https://localhost:8080/"
        },
        "id": "IVZaJ3Qtqrd3",
        "outputId": "a14a2fbe-9aa4-49f5-aa62-20fba6ff1d86"
      },
      "outputs": [
        {
          "name": "stdout",
          "output_type": "stream",
          "text": [
            "Sound2.wav file metadata:\n",
            "Data type: int16\n",
            "Min value: -32768\n",
            "Max value: 32767\n"
          ]
        }
      ],
      "source": [
        "sample_rate, data = wav.read(\"Sound2.wav\")\n",
        "print(\"Sound2.wav file metadata:\")\n",
        "print(\"Data type:\", data.dtype)\n",
        "print(\"Min value:\", data.min())\n",
        "print(\"Max value:\", data.max())"
      ]
    },
    {
      "cell_type": "markdown",
      "metadata": {
        "id": "gMYtlU5971Af"
      },
      "source": [
        "**Rice encoding and decoding functions**"
      ]
    },
    {
      "cell_type": "code",
      "execution_count": 5,
      "metadata": {
        "id": "9_8Kb4Jj5xUQ"
      },
      "outputs": [],
      "source": [
        "# Function for Rice encode an integer S using parameter K.\n",
        "def rice_encode(S, K):\n",
        "    \"\"\"\n",
        "    Steps from Coursera Exercise 1.7:\n",
        "      1. Compute M = 2^K.\n",
        "      2. Calculate quotient q = S // M and remainder r = S % M.\n",
        "      3. Encode q in unary: q ones followed by a '0'.\n",
        "      4. Encode r in binary with fixed width K.\n",
        "      5. Concatenate the unary and binary codes.\n",
        "\n",
        "    Args:\n",
        "      S (int): The integer value to be encoded.\n",
        "      K (int): The fixed bit-length for the remainder.\n",
        "\n",
        "    Returns:\n",
        "      str: The Rice-coded bit string.\n",
        "    \"\"\"\n",
        "    M = 2 ** K\n",
        "    q = S // M\n",
        "    r = S % M\n",
        "\n",
        "    # Unary encoding: q ones followed by a terminating 0\n",
        "    quotient_code = '1' * q + '0'\n",
        "\n",
        "    # Remainder code: r as a binary string, padded to K bits.\n",
        "    remainder_code = format(r, f'0{K}b')\n",
        "\n",
        "    # The codeword is the concatenation of the quotient code and the remainder code.\n",
        "    codeword = quotient_code + remainder_code\n",
        "    return codeword\n",
        "\n",
        "\n",
        "# Function for Rice decode a given bit string using parameter K.\n",
        "def rice_decode(codeword, K):\n",
        "    \"\"\"\n",
        "    Steps from Coursera Exercise 1.7:\n",
        "      1. Count the number of 1s until the first 0. That count is q.\n",
        "      2. Read the next K bits as a binary number, which is the remainder r.\n",
        "      3. Calculate the original number as S = q * 2^K + r.\n",
        "\n",
        "    Args:\n",
        "      codeword (str): The Rice-coded bit string.\n",
        "      K (int): The fixed bit-length used during encoding.\n",
        "\n",
        "    Returns:\n",
        "      int: The decoded integer S.\n",
        "    \"\"\"\n",
        "    # Count the number of 1s before the first 0 (the unary part).\n",
        "    q = 0\n",
        "    index = 0\n",
        "    while index < len(codeword) and codeword[index] == '1':\n",
        "        q += 1\n",
        "        index += 1\n",
        "\n",
        "    # The first 0 marks the end of the unary code.\n",
        "    # Skip the 0\n",
        "    index += 1\n",
        "\n",
        "    # Read the next K bits for the remainder.\n",
        "    remainder_bits = codeword[index:index + K]\n",
        "    r = int(remainder_bits, 2) if remainder_bits else 0\n",
        "\n",
        "    # Calculate S using the formula\n",
        "    M = 2 ** K\n",
        "    S = q * M + r\n",
        "    return S\n"
      ]
    },
    {
      "cell_type": "markdown",
      "metadata": {
        "id": "h2bIdT-H7Hof"
      },
      "source": [
        "test the encode and decode function\n"
      ]
    },
    {
      "cell_type": "code",
      "execution_count": 45,
      "metadata": {
        "colab": {
          "base_uri": "https://localhost:8080/"
        },
        "id": "Hi3fug_d7F3m",
        "outputId": "681425ea-f4f5-4905-c0fa-7679a037d1fb"
      },
      "outputs": [
        {
          "name": "stdout",
          "output_type": "stream",
          "text": [
            "All tests passed!\n"
          ]
        }
      ],
      "source": [
        "K = 4\n",
        "assert (\n",
        "    rice_decode(rice_encode(23, K), K) == 23\n",
        "    and rice_decode(\"1100011\", K) == 35\n",
        "), \"Rice coding test failed!\"\n",
        "\n",
        "print(\"All tests passed!\")"
      ]
    },
    {
      "cell_type": "markdown",
      "metadata": {
        "id": "7Z7cFF6o9kLE"
      },
      "source": [
        "Helper functions"
      ]
    },
    {
      "cell_type": "code",
      "execution_count": 7,
      "metadata": {
        "id": "GcJw4EKi92iX"
      },
      "outputs": [],
      "source": [
        "# Function to convert a bit string to a bytes object\n",
        "def bits_to_bytes(bit_string):\n",
        "    # Pad the bit string if necessary to ensure its length is a multiple of 8.\n",
        "    extra_bits = len(bit_string) % 8\n",
        "    if extra_bits:\n",
        "        padding = 8 - extra_bits\n",
        "        bit_string += '0' * padding\n",
        "\n",
        "    # Convert the padded bit string to an integer, then to a bytes object.\n",
        "    num_bytes = len(bit_string) // 8\n",
        "    return int(bit_string, 2).to_bytes(num_bytes, byteorder='big')\n",
        "\n",
        "\n",
        "# Function to convert a bytes object to its corresponding bit string\n",
        "def bytes_to_bits(byte_data):\n",
        "    return ''.join(format(b, '08b') for b in byte_data)\n",
        "\n",
        "# Calculate the compression percentage given the size of the original and compressed data\n",
        "def compression_percentage(original_size, compressed_size):\n",
        "    if original_size == 0:\n",
        "        return 0.0  # Avoid division by zero.\n",
        "    comp_percent = ((original_size - compressed_size) / original_size) * 100\n",
        "    return comp_percent"
      ]
    },
    {
      "cell_type": "code",
      "execution_count": 8,
      "metadata": {
        "id": "9DAvL-DMkl1i"
      },
      "outputs": [],
      "source": [
        "# Function to decode a continuous bit string into a list of samples.\n",
        "def rice_decode_stream(bit_string, K):\n",
        "    \"\"\"\n",
        "    Returns: A list of decoded integer samples.\n",
        "    \"\"\"\n",
        "    decoded_samples = []\n",
        "    index = 0\n",
        "    total_length = len(bit_string)\n",
        "\n",
        "    while index < total_length:\n",
        "        # Count ones until the first 0 to determine the quotient q\n",
        "        q = 0\n",
        "        while index < total_length and bit_string[index] == '1':\n",
        "            q += 1\n",
        "            index += 1\n",
        "\n",
        "        # If reaching the end without finding a 0, break\n",
        "        if index >= total_length:\n",
        "            break\n",
        "\n",
        "        # Skip the 0 that terminates the unary code\n",
        "        index += 1\n",
        "\n",
        "        # Extract the next K bits for the remainder\n",
        "        if index + K > total_length:\n",
        "            break\n",
        "        remainder_bits = bit_string[index:index + K]\n",
        "        r = int(remainder_bits, 2)\n",
        "        index += K\n",
        "\n",
        "        sample = q * (2 ** K) + r\n",
        "        decoded_samples.append(sample)\n",
        "\n",
        "    return decoded_samples"
      ]
    },
    {
      "cell_type": "markdown",
      "metadata": {
        "id": "3q51_jb-kRIO"
      },
      "source": [
        "Encode and Decode audio files"
      ]
    },
    {
      "cell_type": "code",
      "execution_count": 9,
      "metadata": {
        "id": "2Hp_4CsTisMC"
      },
      "outputs": [],
      "source": [
        "# Encode a WAV audio file using rice coding\n",
        "def encode_audio_file(input_wav_path, output_ex2_path, K):\n",
        "    \"\"\"\n",
        "    Steps:\n",
        "      1. Read the WAV file.\n",
        "      2. Compute offset = -min_value if min_value < 0 (else 0).\n",
        "      3. Add offset to each sample to make them non-negative.\n",
        "      4. Rice encode each adjusted sample.\n",
        "      5. Convert the concatenated bit string to bytes.\n",
        "      6. Create a header with K, sample rate, num_samples, and offset.\n",
        "      7. Write header and binary data to the output file.\n",
        "    \"\"\"\n",
        "    # Read the audio file.\n",
        "    sample_rate, data = wav.read(input_wav_path)\n",
        "\n",
        "    # If stereo or multi-channel, use one channel (the first channel)\n",
        "    if len(data.shape) > 1:\n",
        "        data = data[:, 0]\n",
        "\n",
        "    # Ensure data is a 1D integer array.\n",
        "    data = data.flatten()\n",
        "\n",
        "    # Compute dynamic offset: shift data so that the minimum becomes 0.\n",
        "    min_value = int(data.min())\n",
        "    offset = -min_value if min_value < 0 else 0\n",
        "\n",
        "    # Encode each sample after adding the offset.\n",
        "    encoded_bits = \"\"\n",
        "    for sample in data:\n",
        "        adjusted_sample = int(sample) + offset\n",
        "        encoded_bits += rice_encode(adjusted_sample, K)\n",
        "\n",
        "    # Convert the bit string to bytes.\n",
        "    encoded_bytes = bits_to_bytes(encoded_bits)\n",
        "\n",
        "    # Create a header with metadata including the offset.\n",
        "    header_lines = [\n",
        "        f\"K={K}\",\n",
        "        f\"sample_rate={sample_rate}\",\n",
        "        f\"num_samples={len(data)}\",\n",
        "        f\"offset={offset}\",\n",
        "        \"----\"  # Delimiter between header and binary data.\n",
        "    ]\n",
        "    header_str = \"\\n\".join(header_lines) + \"\\n\"\n",
        "    header_bytes = header_str.encode('utf-8')\n",
        "\n",
        "    # Write the header and encoded bytes to the output file.\n",
        "    with open(output_ex2_path, \"wb\") as f:\n",
        "        f.write(header_bytes)\n",
        "        f.write(encoded_bytes)\n",
        "\n",
        "    print(\"Encoding complete.\")\n",
        "    original_size = os.path.getsize(input_wav_path)\n",
        "    compressed_size = os.path.getsize(output_ex2_path)\n",
        "    print(\"Original file size (bytes):\", original_size)\n",
        "    print(\"Compressed file size (bytes):\", compressed_size)\n",
        "    print(\"Compression Percentage: {:.2f}%\".format(compression_percentage(original_size, compressed_size)))\n",
        "\n",
        "\n",
        "# Function to decode a Rice-coded file back to a WAV audio file\n",
        "def decode_audio_file(input_ex2_path, output_wav_path):\n",
        "    \"\"\"\n",
        "    Steps:\n",
        "      1. Read the encoded file and split the header from the binary data.\n",
        "      2. Parse the header to extract K, sample rate, num_samples, and offset.\n",
        "      3. Convert the binary data (bytes) back to a bit string.\n",
        "      4. Rice decode the bit string to retrieve adjusted samples.\n",
        "      5. Subtract the stored offset from each sample to recover the original signed value.\n",
        "      6. Write the reconstructed audio data to a new WAV file.\n",
        "    \"\"\"\n",
        "    with open(input_ex2_path, \"rb\") as f:\n",
        "        file_content = f.read()\n",
        "\n",
        "    # Split header and binary data.\n",
        "    header_str, encoded_bytes = file_content.split(b\"----\\n\", 1)\n",
        "    header_lines = header_str.decode('utf-8').strip().split(\"\\n\")\n",
        "    header_info = {}\n",
        "    for line in header_lines:\n",
        "        key, value = line.split(\"=\")\n",
        "        header_info[key.strip()] = value.strip()\n",
        "\n",
        "    # Extract metadata from header.\n",
        "    K = int(header_info.get(\"K\"))\n",
        "    sample_rate = int(header_info.get(\"sample_rate\"))\n",
        "    num_samples = int(header_info.get(\"num_samples\"))\n",
        "    offset = int(header_info.get(\"offset\"))\n",
        "\n",
        "    # Convert the encoded bytes back to a bit string.\n",
        "    encoded_bits = bytes_to_bits(encoded_bytes)\n",
        "\n",
        "    # Decode the bit stream to retrieve the adjusted (non-negative) samples.\n",
        "    decoded_samples = rice_decode_stream(encoded_bits, K)\n",
        "\n",
        "    # Ensure the decoded sample list has the correct length.\n",
        "    if len(decoded_samples) > num_samples:\n",
        "        decoded_samples = decoded_samples[:num_samples]\n",
        "    elif len(decoded_samples) < num_samples:\n",
        "        decoded_samples.extend([0] * (num_samples - len(decoded_samples)))\n",
        "\n",
        "    # Subtract the offset to revert to the original signed values.\n",
        "    original_samples = [s - offset for s in decoded_samples]\n",
        "\n",
        "    # Convert to a NumPy array with appropriate data type.\n",
        "    decoded_array = np.array(original_samples, dtype=np.int16)\n",
        "\n",
        "    # Write the reconstructed audio data to a WAV file.\n",
        "    wav.write(output_wav_path, sample_rate, decoded_array)\n",
        "\n",
        "    print(\"Decoding complete. Output written to\", output_wav_path)\n"
      ]
    },
    {
      "cell_type": "markdown",
      "metadata": {
        "id": "p3Of11cNtTmR"
      },
      "source": [
        "**Preprocessing the audio files with rice encoding**"
      ]
    },
    {
      "cell_type": "markdown",
      "metadata": {
        "id": "iAmE1W9fuAya"
      },
      "source": [
        "**When k = 2 bits**"
      ]
    },
    {
      "cell_type": "code",
      "execution_count": 10,
      "metadata": {
        "id": "jhnFwwG8uLbI"
      },
      "outputs": [],
      "source": [
        "K = 2"
      ]
    },
    {
      "cell_type": "code",
      "execution_count": null,
      "metadata": {
        "colab": {
          "base_uri": "https://localhost:8080/"
        },
        "id": "LIB11QxquLdo",
        "outputId": "9a79e780-2721-41e6-e1f3-aa72e1423510"
      },
      "outputs": [
        {
          "name": "stdout",
          "output_type": "stream",
          "text": [
            "Encoding complete.\n",
            "Original file size (bytes): 1002088\n",
            "Compressed file size (bytes): 116277659\n",
            "Compression Percentage: -11503.54%\n",
            "Decoding complete. Output written to Sound1_k2_Enc_Dec.wav\n"
          ]
        }
      ],
      "source": [
        "# Encode a first WAV file.\n",
        "input_wav = \"Sound1.wav\"\n",
        "output_ex2 = \"Sound1_k2_Enc.ex2\"\n",
        "encode_audio_file(input_wav, output_ex2, K)\n",
        "\n",
        "# Decode the encoded file back to WAV.\n",
        "output_wav = \"Sound1_k2_Enc_Dec.wav\"\n",
        "decode_audio_file(output_ex2, output_wav)"
      ]
    },
    {
      "cell_type": "code",
      "execution_count": 12,
      "metadata": {
        "colab": {
          "base_uri": "https://localhost:8080/"
        },
        "id": "7LcEHvr2uOMU",
        "outputId": "1aafe387-6ce6-4664-ab05-38e5803103ed"
      },
      "outputs": [
        {
          "name": "stdout",
          "output_type": "stream",
          "text": [
            "Encoding complete.\n",
            "Original file size (bytes): 1008044\n",
            "Compressed file size (bytes): 517602560\n",
            "Compression Percentage: -51247.22%\n",
            "Decoding complete. Output written to Sound2_k2_Enc_Dec.wav\n"
          ]
        }
      ],
      "source": [
        "# Encode a second WAV file.\n",
        "input_wav = \"Sound2.wav\"\n",
        "output_ex2 = \"Sound2_k2_Enc.ex2\"\n",
        "encode_audio_file(input_wav, output_ex2, K)\n",
        "\n",
        "# Decode the encoded file back to WAV.\n",
        "output_wav = \"Sound2_k2_Enc_Dec.wav\"\n",
        "decode_audio_file(output_ex2, output_wav)"
      ]
    },
    {
      "cell_type": "markdown",
      "metadata": {
        "id": "-eGe_AdGuEgW"
      },
      "source": [
        "**When k = 4 bits**"
      ]
    },
    {
      "cell_type": "code",
      "execution_count": null,
      "metadata": {
        "id": "DopECBlauKNH"
      },
      "outputs": [],
      "source": [
        "K = 4"
      ]
    },
    {
      "cell_type": "code",
      "execution_count": null,
      "metadata": {
        "colab": {
          "base_uri": "https://localhost:8080/"
        },
        "id": "ag5WA1FitYZf",
        "outputId": "db08b6ee-5632-41a6-dfce-d1d25a1ca86f"
      },
      "outputs": [
        {
          "name": "stdout",
          "output_type": "stream",
          "text": [
            "Encoding complete.\n",
            "Original file size (bytes): 1002088\n",
            "Compressed file size (bytes): 29311736\n",
            "Compression Percentage: -2825.07%\n",
            "Decoding complete. Output written to Sound1_k4_Enc_Dec.wav\n"
          ]
        }
      ],
      "source": [
        "# Encode a first WAV file.\n",
        "input_wav = \"Sound1.wav\"\n",
        "output_ex2 = \"Sound1_k4_Enc.ex2\"\n",
        "encode_audio_file(input_wav, output_ex2, K)\n",
        "\n",
        "# Decode the encoded file back to WAV.\n",
        "output_wav = \"Sound1_k4_Enc_Dec.wav\"\n",
        "decode_audio_file(output_ex2, output_wav)"
      ]
    },
    {
      "cell_type": "code",
      "execution_count": null,
      "metadata": {
        "colab": {
          "base_uri": "https://localhost:8080/"
        },
        "id": "BuyptgDy7F6Q",
        "outputId": "698d7004-4b71-4780-f9df-7e5095c40af0"
      },
      "outputs": [
        {
          "name": "stdout",
          "output_type": "stream",
          "text": [
            "Encoding complete.\n",
            "Original file size (bytes): 1008044\n",
            "Compressed file size (bytes): 129644844\n",
            "Compression Percentage: -12761.03%\n",
            "Decoding complete. Output written to Sound2_k4_Enc_Dec.wav\n"
          ]
        }
      ],
      "source": [
        "# Encode a second WAV file.\n",
        "input_wav = \"Sound2.wav\"\n",
        "output_ex2 = \"Sound2_k4_Enc.ex2\"\n",
        "encode_audio_file(input_wav, output_ex2, K)\n",
        "\n",
        "# Decode the encoded file back to WAV.\n",
        "output_wav = \"Sound2_k4_Enc_Dec.wav\"\n",
        "decode_audio_file(output_ex2, output_wav)"
      ]
    },
    {
      "cell_type": "markdown",
      "metadata": {
        "id": "vSzadtaouVlt"
      },
      "source": [
        "Check whether the original and decoded audio files are identical"
      ]
    },
    {
      "cell_type": "code",
      "execution_count": 14,
      "metadata": {
        "colab": {
          "base_uri": "https://localhost:8080/"
        },
        "id": "hFUo4TyjlTEU",
        "outputId": "9b14c95c-5ecd-473e-bc61-92d6d2b77bbc"
      },
      "outputs": [
        {
          "name": "stdout",
          "output_type": "stream",
          "text": [
            "Check audio files compressed with 2 bits:-----------------------\n",
            "Check Sound1.wav:\n",
            "The decoded audio is identical to the original.\n",
            "Check Sound2.wav:\n",
            "Audio dimensions differ!\n",
            "Check audio files compressed with 4 bits:-----------------------\n",
            "Check Sound1.wav:\n",
            "The decoded audio is identical to the original.\n",
            "Check Sound2.wav:\n",
            "The decoded audio is identical to the original.\n"
          ]
        }
      ],
      "source": [
        "def compare_audio_files(original_wav, decoded_wav):\n",
        "    # Read both audio files.\n",
        "    sample_rate_orig, data_orig = wav.read(original_wav)\n",
        "    sample_rate_dec, data_dec = wav.read(decoded_wav)\n",
        "\n",
        "    # Compare sample rates.\n",
        "    if sample_rate_orig != sample_rate_dec:\n",
        "        print(\"Sample rates differ!\")\n",
        "        return False\n",
        "\n",
        "    # Compare array shapes (number of samples/channels).\n",
        "    if data_orig.shape != data_dec.shape:\n",
        "        print(\"Audio dimensions differ!\")\n",
        "        return False\n",
        "\n",
        "    # Compare the audio data.\n",
        "    if np.array_equal(data_orig, data_dec):\n",
        "        print(\"The decoded audio is identical to the original.\")\n",
        "        return True\n",
        "    else:\n",
        "        print(\"The decoded audio differs from the original.\")\n",
        "        # Optionally, compute the difference:\n",
        "        diff = np.abs(data_orig - data_dec)\n",
        "        print(\"Max difference:\", np.max(diff))\n",
        "        return False\n",
        "\n",
        "\n",
        "if __name__ == \"__main__\":\n",
        "    sound1_original_file = \"Sound1.wav\"\n",
        "    sound1_k4_decoded_file = \"Sound1_k4_Enc_Dec.wav\"\n",
        "    sound1_k2_decoded_file = \"Sound1_k2_Enc_Dec.wav\"\n",
        "    sound2_original_file = \"Sound2.wav\"\n",
        "    sound2_k4_decoded_file = \"Sound2_k4_Enc_Dec.wav\"\n",
        "    sound2_k2_decoded_file = \"Sound1_k2_Enc_Dec.wav\"\n",
        "\n",
        "    print(\"Check audio files compressed with 2 bits:-----------------------\")\n",
        "    print(\"Check Sound1.wav:\")\n",
        "    compare_audio_files(sound1_original_file, sound1_k2_decoded_file)\n",
        "    print(\"Check Sound2.wav:\")\n",
        "    compare_audio_files(sound2_original_file, sound2_k2_decoded_file)\n",
        "\n",
        "    print(\"Check audio files compressed with 4 bits:-----------------------\")\n",
        "    print(\"Check Sound1.wav:\")\n",
        "    compare_audio_files(sound1_original_file, sound1_k4_decoded_file)\n",
        "    print(\"Check Sound2.wav:\")\n",
        "    compare_audio_files(sound2_original_file, sound2_k4_decoded_file)"
      ]
    },
    {
      "cell_type": "markdown",
      "metadata": {
        "id": "49m5pkrUoTFO"
      },
      "source": [
        "**Further Implementation: Rice coding + Run-length encoding (RLE)**"
      ]
    },
    {
      "cell_type": "markdown",
      "metadata": {
        "id": "zRUTR6e81Xeb"
      },
      "source": [
        "Explore how K param affects the compression ratio"
      ]
    },
    {
      "cell_type": "code",
      "execution_count": 13,
      "metadata": {
        "colab": {
          "base_uri": "https://localhost:8080/",
          "height": 489
        },
        "id": "qtf0zHFsvTvB",
        "outputId": "293b3f1f-fc3e-4f8e-ded2-bee284c75c18"
      },
      "outputs": [
        {
          "name": "stderr",
          "output_type": "stream",
          "text": [
            "100%|██████████| 11/11 [02:50<00:00, 15.47s/it]\n"
          ]
        },
        {
          "data": {
            "image/png": "[encoded data removed]",
            "text/plain": [
              "<Figure size 640x480 with 1 Axes>"
            ]
          },
          "metadata": {},
          "output_type": "display_data"
        }
      ],
      "source": [
        "import matplotlib.pyplot as plt\n",
        "from tqdm import tqdm\n",
        "\n",
        "# Function to compute the size of the Rice-coded output for a WAV file\n",
        "# and parameter K, without writing the output to disk.\n",
        "def compute_encoded_size(input_wav_path, K):\n",
        "    \"\"\"\n",
        "    Steps:\n",
        "      1. Read the WAV file and extract one channel of data.\n",
        "      2. Compute a dynamic offset to convert signed samples to non-negative.\n",
        "      3. Rice encode each sample (after applying the offset).\n",
        "      4. Convert the resulting bit string to bytes.\n",
        "      5. Return the byte length.\n",
        "    \"\"\"\n",
        "    # Read audio data\n",
        "    sample_rate, data = wav.read(input_wav_path)\n",
        "    if len(data.shape) > 1:\n",
        "        data = data[:, 0]\n",
        "    data = data.flatten()\n",
        "\n",
        "    # Compute dynamic offset\n",
        "    min_value = int(data.min())\n",
        "    offset = -min_value if min_value < 0 else 0\n",
        "\n",
        "    # Rice encode each sample (after applying the offset)\n",
        "    encoded_bits = \"\"\n",
        "    for sample in data:\n",
        "        adjusted_sample = int(sample) + offset\n",
        "        encoded_bits += rice_encode(adjusted_sample, K)\n",
        "\n",
        "    # Convert the bit string to bytes\n",
        "    encoded_bytes = bits_to_bytes(encoded_bits)\n",
        "    return len(encoded_bytes)\n",
        "\n",
        "# Define the range of K values (from 2 to 12)\n",
        "Ks = range(2, 13)\n",
        "results = []\n",
        "\n",
        "# Get the original file size\n",
        "original_size = os.path.getsize(\"Sound1.wav\")\n",
        "\n",
        "# Loop over K values and compute the compression percentage\n",
        "for k in tqdm(Ks):\n",
        "    encoded_size = compute_encoded_size(\"Sound1.wav\", k)\n",
        "    comp_percentage = (1 - encoded_size / original_size) * 100\n",
        "    results.append([k, comp_percentage])\n",
        "\n",
        "results = np.array(results)\n",
        "\n",
        "# Plotting the results\n",
        "plt.title('Compression Percentage vs K')\n",
        "plt.xlabel('K')\n",
        "plt.ylabel('% Compression')\n",
        "plt.plot(results[:, 0], results[:, 1], marker='o')\n",
        "plt.show()\n"
      ]
    },
    {
      "cell_type": "markdown",
      "metadata": {
        "id": "NXU-ZLXLxKJ_"
      },
      "source": [
        "Based on your plot, it appears that as K increases from 2 up to 8, the compression percentage improves, but beyond K = 8 the gains plateau. Therefore, **K=8** is an optimal choice for rice coding in terms of compression ratio."
      ]
    },
    {
      "cell_type": "code",
      "execution_count": 25,
      "metadata": {
        "id": "MMWA1ESbrKWS"
      },
      "outputs": [],
      "source": [
        "# Function to encode a bit string using RLE\n",
        "# The encoding format for each run is \"bit:count\" with runs separated by commas.\n",
        "# Example: \"0001110000\" becomes \"0:3,1:3,0:4\".\n",
        "def rle_encode(bit_string):\n",
        "    \"\"\"\n",
        "    Args: bit_string (str): A string containing only 0s and 1s.\n",
        "\n",
        "    Returns: str: The RLE-encoded string.\n",
        "    \"\"\"\n",
        "    if not bit_string:\n",
        "        return \"\"\n",
        "\n",
        "    encoded_runs = []\n",
        "    current_bit = bit_string[0]\n",
        "    count = 1\n",
        "\n",
        "    for bit in bit_string[1:]:\n",
        "        if bit == current_bit:\n",
        "            count += 1\n",
        "        else:\n",
        "            encoded_runs.append(f\"{current_bit}:{count}\")\n",
        "            current_bit = bit\n",
        "            count = 1\n",
        "    encoded_runs.append(f\"{current_bit}:{count}\")\n",
        "\n",
        "    return \",\".join(encoded_runs)\n",
        "\n",
        "\n",
        "# Function to decode an RLE-encoded bit string back to the original bit string.\n",
        "def rle_decode(rle_string):\n",
        "    \"\"\"\n",
        "    Args: rle_string (str): The RLE-encoded string.\n",
        "\n",
        "    Returns: str: The decoded bit string.\n",
        "    \"\"\"\n",
        "    if not rle_string:\n",
        "        return \"\"\n",
        "\n",
        "    decoded_bits = []\n",
        "    runs = rle_string.split(\",\")\n",
        "    for run in runs:\n",
        "        bit, count_str = run.split(\":\")\n",
        "        decoded_bits.append(bit * int(count_str))\n",
        "    return \"\".join(decoded_bits)"
      ]
    },
    {
      "cell_type": "markdown",
      "metadata": {
        "id": "DRdUjgKx2jal"
      },
      "source": [
        "test the encode and decode function"
      ]
    },
    {
      "cell_type": "code",
      "execution_count": 27,
      "metadata": {
        "colab": {
          "base_uri": "https://localhost:8080/"
        },
        "id": "0o8YNhR-o-zN",
        "outputId": "6f6df0a8-dd27-450a-c733-a05bd529f356"
      },
      "outputs": [
        {
          "name": "stdout",
          "output_type": "stream",
          "text": [
            "Test passed!\n"
          ]
        }
      ],
      "source": [
        "assert rle_decode(rle_encode(\"1110001100\")) == \"1110001100\"\n",
        "print(\"Test passed!\")"
      ]
    },
    {
      "cell_type": "code",
      "execution_count": 32,
      "metadata": {
        "id": "w2p44jDWrKYQ"
      },
      "outputs": [],
      "source": [
        "# Function to encode a WAV file using rice + rle\n",
        "def encode_audio_file_with_rle(input_wav_path, output_ex2_path, K):\n",
        "    \"\"\"\n",
        "    Steps:\n",
        "      1. Read the WAV file, select one channel if necessary, and flatten the data.\n",
        "      2. Compute a dynamic offset so that the minimum sample becomes zero.\n",
        "      3. For each sample, add the offset and apply Rice encoding (with parameter K).\n",
        "      4. Concatenate all codewords into one long Rice-coded bit stream.\n",
        "      5. Apply RLE encoding to the Rice-coded bit stream.\n",
        "      6. Create a header containing metadata: K, sample_rate, num_samples, offset, and an RLE flag.\n",
        "      7. Write the header and the RLE-encoded data (as text) to the output file.\n",
        "    \"\"\"\n",
        "    # Read the WAV file.\n",
        "    sample_rate, data = wav.read(input_wav_path)\n",
        "    if len(data.shape) > 1:\n",
        "        data = data[:, 0]  # Use the first channel if stereo.\n",
        "    data = data.flatten()\n",
        "\n",
        "    # Compute dynamic offset so that all samples are non-negative.\n",
        "    min_value = int(data.min())\n",
        "    offset = -min_value if min_value < 0 else 0\n",
        "\n",
        "    # Rice encode each sample (after applying the offset).\n",
        "    rice_encoded_bits = \"\"\n",
        "    for sample in data:\n",
        "        adjusted_sample = int(sample) + offset\n",
        "        rice_encoded_bits += rice_encode(adjusted_sample, K)\n",
        "\n",
        "    # Now apply RLE encoding to the Rice-coded bit stream.\n",
        "    rle_encoded_string = rle_encode(rice_encoded_bits)\n",
        "\n",
        "    # Create a header with metadata.\n",
        "    header_lines = [\n",
        "        f\"K={K}\",\n",
        "        f\"sample_rate={sample_rate}\",\n",
        "        f\"num_samples={len(data)}\",\n",
        "        f\"offset={offset}\",\n",
        "        f\"RLE=1\",  # Flag indicating RLE was applied.\n",
        "        \"----\"     # Delimiter between header and data.\n",
        "    ]\n",
        "    header_str = \"\\n\".join(header_lines) + \"\\n\"\n",
        "\n",
        "    # Write header and RLE-encoded string to output file.\n",
        "    with open(output_ex2_path, \"w\") as f:\n",
        "        f.write(header_str)\n",
        "        f.write(rle_encoded_string)\n",
        "\n",
        "    print(\"Encoding with RLE complete.\")\n",
        "    original_size = os.path.getsize(input_wav_path)\n",
        "    compressed_size = os.path.getsize(output_ex2_path)\n",
        "    print(\"Original file size (bytes):\", original_size)\n",
        "    print(\"Compressed file size (bytes):\", compressed_size)\n",
        "    print(\"Compression Percentage: {:.2f}%\".format(compression_percentage(original_size, compressed_size)))\n",
        "\n",
        "\n",
        "# Function to decode rice + rle compressed file back to a WAV file\n",
        "def decode_audio_file_with_rle(input_ex2_path, output_wav_path):\n",
        "    \"\"\"\n",
        "    Steps:\n",
        "      1. Read the encoded file and split the header from the RLE-encoded data.\n",
        "      2. Parse the header to extract metadata: K, sample_rate, num_samples, and offset.\n",
        "      3. RLE decode the encoded string to recover the original Rice-coded bit stream.\n",
        "      4. Rice decode the bit stream (using the optimal K) to retrieve the adjusted samples.\n",
        "      5. Subtract the stored offset from each sample to recover the original signed values.\n",
        "      6. Write the reconstructed samples to a new WAV file using the original sample rate.\n",
        "    \"\"\"\n",
        "    with open(input_ex2_path, \"r\") as f:\n",
        "        content = f.read()\n",
        "\n",
        "    # Split the header from the RLE-encoded data using the delimiter.\n",
        "    header_str, rle_encoded_string = content.split(\"----\\n\", 1)\n",
        "    header_lines = header_str.strip().split(\"\\n\")\n",
        "    header_info = {}\n",
        "    for line in header_lines:\n",
        "        key, value = line.split(\"=\")\n",
        "        header_info[key.strip()] = value.strip()\n",
        "\n",
        "    # Retrieve metadata from the header.\n",
        "    K = int(header_info.get(\"K\"))\n",
        "    sample_rate = int(header_info.get(\"sample_rate\"))\n",
        "    num_samples = int(header_info.get(\"num_samples\"))\n",
        "    offset = int(header_info.get(\"offset\"))\n",
        "\n",
        "    # RLE decode to recover the Rice-coded bit stream.\n",
        "    rice_encoded_bits = rle_decode(rle_encoded_string)\n",
        "\n",
        "    # Rice decode the bit stream to retrieve the adjusted samples.\n",
        "    # Pass num_samples as the third argument.\n",
        "    decoded_samples = rice_decode_stream(rice_encoded_bits, K, num_samples)\n",
        "\n",
        "    # Adjust the number of samples if needed.\n",
        "    if len(decoded_samples) > num_samples:\n",
        "        decoded_samples = decoded_samples[:num_samples]\n",
        "    elif len(decoded_samples) < num_samples:\n",
        "        decoded_samples.extend([0] * (num_samples - len(decoded_samples)))\n",
        "\n",
        "    # Subtract the offset to recover original signed sample values.\n",
        "    original_samples = [s - offset for s in decoded_samples]\n",
        "\n",
        "    # Convert list of samples to a NumPy array with appropriate type.\n",
        "    decoded_array = np.array(original_samples, dtype=np.int16)\n",
        "\n",
        "    # Write the reconstructed audio data to a new WAV file.\n",
        "    wav.write(output_wav_path, sample_rate, decoded_array)\n",
        "\n",
        "    print(\"Decoding with RLE complete. Output written to\", output_wav_path)"
      ]
    },
    {
      "cell_type": "markdown",
      "metadata": {
        "id": "q29LvPaA0bI9"
      },
      "source": [
        "Rice encoding + RLE"
      ]
    },
    {
      "cell_type": "code",
      "execution_count": 34,
      "metadata": {
        "id": "MGUHESBN0UdS"
      },
      "outputs": [],
      "source": [
        "K = 8 # Optimal Rice coding parameter"
      ]
    },
    {
      "cell_type": "code",
      "execution_count": 33,
      "metadata": {
        "colab": {
          "base_uri": "https://localhost:8080/"
        },
        "id": "teNtfu7YyOIA",
        "outputId": "a42cf22a-6647-4680-d056-f1adb73facaf"
      },
      "outputs": [
        {
          "name": "stdout",
          "output_type": "stream",
          "text": [
            "Encoding with RLE complete.\n",
            "Original file size (bytes): 1002088\n",
            "Compressed file size (bytes): 10774528\n",
            "Compression Percentage: -975.21%\n",
            "Decoding with RLE complete. Output written to Sound1_Enc_RLE_Dec.wav\n"
          ]
        }
      ],
      "source": [
        "# Encode the first audio file\n",
        "input_wav = \"Sound1.wav\"\n",
        "output_ex2 = \"Sound1_Enc_RLE.ex2\"\n",
        "encode_audio_file_with_rle(input_wav, output_ex2, K)\n",
        "\n",
        "# Decode the encoded file back to a WAV.\n",
        "decoded_wav = \"Sound1_Enc_RLE_Dec.wav\"\n",
        "decode_audio_file_with_rle(output_ex2, decoded_wav)"
      ]
    },
    {
      "cell_type": "code",
      "execution_count": 35,
      "metadata": {
        "colab": {
          "base_uri": "https://localhost:8080/"
        },
        "id": "zsiu9AIxyOLy",
        "outputId": "7fcb1c0a-355a-4344-8408-17e6f4127f57"
      },
      "outputs": [
        {
          "name": "stdout",
          "output_type": "stream",
          "text": [
            "Encoding with RLE complete.\n",
            "Original file size (bytes): 1008044\n",
            "Compressed file size (bytes): 12030458\n",
            "Compression Percentage: -1093.45%\n",
            "Decoding with RLE complete. Output written to Sound2_Enc_RLE_Dec.wav\n"
          ]
        }
      ],
      "source": [
        "# Encode the second audio file\n",
        "input_wav = \"Sound2.wav\"\n",
        "output_ex2 = \"Sound2_Enc_RLE.ex2\"\n",
        "encode_audio_file_with_rle(input_wav, output_ex2, K)\n",
        "\n",
        "# Decode the encoded file back to a WAV.\n",
        "decoded_wav = \"Sound2_Enc_RLE_Dec.wav\"\n",
        "decode_audio_file_with_rle(output_ex2, decoded_wav)"
      ]
    },
    {
      "cell_type": "code",
      "execution_count": null,
      "metadata": {
        "id": "sC7qIdcTyOQF"
      },
      "outputs": [],
      "source": []
    }
  ],
  "metadata": {
    "colab": {
      "machine_shape": "hm",
      "provenance": []
    },
    "kernelspec": {
      "display_name": "Python 3",
      "name": "python3"
    },
    "language_info": {
      "name": "python"
    }
  },
  "nbformat": 4,
  "nbformat_minor": 0
}
