{
  "cells": [
    {
      "cell_type": "markdown",
      "metadata": {},
      "source": [
        "# Film Format Check and Conversion"
      ]
    },
    {
      "cell_type": "markdown",
      "metadata": {
        "id": "sEA12PYbxfm0"
      },
      "source": [
        "Installing ffmpeg and ffprobe"
      ]
    },
    {
      "cell_type": "code",
      "execution_count": null,
      "metadata": {
        "colab": {
          "base_uri": "https://localhost:8080/"
        },
        "id": "dLEGPCFDfiB3",
        "outputId": "953f8453-db34-411b-e965-460f3a5189c1"
      },
      "outputs": [
        {
          "name": "stdout",
          "output_type": "stream",
          "text": [
            "ffmpeg version 4.4.2-0ubuntu0.22.04.1 Copyright (c) 2000-2021 the FFmpeg developers\n",
            "built with gcc 11 (Ubuntu 11.2.0-19ubuntu1)\n",
            "configuration: --prefix=/usr --extra-version=0ubuntu0.22.04.1 --toolchain=hardened --libdir=/usr/lib/x86_64-linux-gnu --incdir=/usr/include/x86_64-linux-gnu --arch=amd64 --enable-gpl --disable-stripping --enable-gnutls --enable-ladspa --enable-libaom --enable-libass --enable-libbluray --enable-libbs2b --enable-libcaca --enable-libcdio --enable-libcodec2 --enable-libdav1d --enable-libflite --enable-libfontconfig --enable-libfreetype --enable-libfribidi --enable-libgme --enable-libgsm --enable-libjack --enable-libmp3lame --enable-libmysofa --enable-libopenjpeg --enable-libopenmpt --enable-libopus --enable-libpulse --enable-librabbitmq --enable-librubberband --enable-libshine --enable-libsnappy --enable-libsoxr --enable-libspeex --enable-libsrt --enable-libssh --enable-libtheora --enable-libtwolame --enable-libvidstab --enable-libvorbis --enable-libvpx --enable-libwebp --enable-libx265 --enable-libxml2 --enable-libxvid --enable-libzimg --enable-libzmq --enable-libzvbi --enable-lv2 --enable-omx --enable-openal --enable-opencl --enable-opengl --enable-sdl2 --enable-pocketsphinx --enable-librsvg --enable-libmfx --enable-libdc1394 --enable-libdrm --enable-libiec61883 --enable-chromaprint --enable-frei0r --enable-libx264 --enable-shared\n",
            "libavutil      56. 70.100 / 56. 70.100\n",
            "libavcodec     58.134.100 / 58.134.100\n",
            "libavformat    58. 76.100 / 58. 76.100\n",
            "libavdevice    58. 13.100 / 58. 13.100\n",
            "libavfilter     7.110.100 /  7.110.100\n",
            "libswscale      5.  9.100 /  5.  9.100\n",
            "libswresample   3.  9.100 /  3.  9.100\n",
            "libpostproc    55.  9.100 / 55.  9.100\n"
          ]
        }
      ],
      "source": [
        "import subprocess\n",
        "import json\n",
        "import shutil\n",
        "import os\n",
        "\n",
        "# The code is referred from  Coursera exercise19\n",
        "# Check if FFmpeg is installed and install it if missing\n",
        "if not shutil.which(\"ffmpeg\"):\n",
        "    !curl https://johnvansickle.com/ffmpeg/releases/ffmpeg-release-amd64-static.tar.xz -o ffmpeg.tar.xz \\\n",
        "        && tar -xf ffmpeg.tar.xz && rm ffmpeg.tar.xz\n",
        "    ffmdir = !find . -iname ffmpeg-*-static\n",
        "    path = %env PATH\n",
        "    path = path + ':' + ffmdir[0]\n",
        "    %env PATH $path\n",
        "\n",
        "# Verify FFmpeg installation\n",
        "!ffmpeg -version"
      ]
    },
    {
      "cell_type": "markdown",
      "metadata": {
        "id": "mv0q1ib8tmqT"
      },
      "source": [
        "The format of the films specified by the festival organisation is:  \n",
        "* Video format (container): mp4\n",
        "* Video codec: h.264\n",
        "* Audio codec: aac\n",
        "* Frame rate: 25 FPS\n",
        "* Aspect ratio: 16:9\n",
        "* Resolution: 640 x 360\n",
        "* Video bit rate: 2 – 5 Mb/s\n",
        "* Audio bit rate: up to 256 kb/s\n",
        "* Audio channels: stereo"
      ]
    },
    {
      "cell_type": "code",
      "execution_count": null,
      "metadata": {
        "id": "05O3B_MMfiF-"
      },
      "outputs": [],
      "source": [
        "# Define the expected format required by the film festival\n",
        "EXPECTED_FORMAT = {\n",
        "    \"container\": \"mp4\",\n",
        "    \"video_codec\": \"h264\",\n",
        "    \"audio_codec\": \"aac\",\n",
        "    \"frame_rate\": 25,\n",
        "    \"aspect_ratio\": \"16:9\",\n",
        "    \"resolution_width\": 640,\n",
        "    \"resolution_height\": 360,\n",
        "    \"video_br_min_mbs\": 2,\n",
        "    \"video_br_max_mbs\": 5,\n",
        "    \"audio_br_max_kbs\": 256,\n",
        "    \"audio_channels\": 2\n",
        "}"
      ]
    },
    {
      "cell_type": "markdown",
      "metadata": {
        "id": "zfsiktMqx05y"
      },
      "source": [
        "To check film properties, two functions are created:\n",
        "- Extracts film metadata using FFprobe\n",
        "- Compare extracted metadata with expected format"
      ]
    },
    {
      "cell_type": "code",
      "execution_count": null,
      "metadata": {
        "id": "3Mj84h55xuWQ"
      },
      "outputs": [],
      "source": [
        "# Extract metadata from a video file using ffprobe\n",
        "def extract_metadata(file_path):\n",
        "    try:\n",
        "        # ffprobe command to get metadata in JSON format\n",
        "        cmd = [\n",
        "            \"ffprobe\", \"-v\", \"error\", \"-show_streams\", \"-show_format\",\n",
        "            \"-of\", \"json\", file_path\n",
        "        ]\n",
        "        result = subprocess.run(cmd, stdout=subprocess.PIPE, stderr=subprocess.PIPE, text=True)\n",
        "        metadata = json.loads(result.stdout)\n",
        "\n",
        "        # Extract required metadata\n",
        "        video_stream = next((stream for stream in metadata[\"streams\"] if stream[\"codec_type\"] == \"video\"), None)\n",
        "        audio_stream = next((stream for stream in metadata[\"streams\"] if stream[\"codec_type\"] == \"audio\"), None)\n",
        "\n",
        "        if not video_stream or not audio_stream:\n",
        "            raise ValueError(\"Invalid video file. Missing video or audio stream.\")\n",
        "\n",
        "        # Extract video properties\n",
        "        extracted_data = {\n",
        "            \"container\": metadata[\"format\"][\"format_name\"],\n",
        "            \"video_codec\": video_stream[\"codec_name\"].lower(),\n",
        "            \"audio_codec\": audio_stream[\"codec_name\"].lower(),\n",
        "            \"frame_rate\": eval(video_stream[\"r_frame_rate\"]),\n",
        "            \"aspect_ratio\": f\"{video_stream['width']}:{video_stream['height']}\",\n",
        "            \"resolution_width\": video_stream[\"width\"],\n",
        "            \"resolution_height\": video_stream[\"height\"],\n",
        "            \"video_br_mbs\": int(metadata[\"format\"][\"bit_rate\"]) / 1e6,  # Convert bits to Mbps\n",
        "            \"audio_br_kbs\": int(audio_stream.get(\"bit_rate\", 0)) / 1e3,  # Convert bits to kbps\n",
        "            \"audio_channels\": audio_stream[\"channels\"]\n",
        "        }\n",
        "\n",
        "        return extracted_data\n",
        "\n",
        "    except Exception as e:\n",
        "        print(f\"Error extracting metadata from {file_path}: {e}\")\n",
        "        return None\n",
        "\n",
        "\n",
        "# Compare extracted metadata with expected format\n",
        "def compare_format(metadata, expected_format):\n",
        "    if not metadata:\n",
        "        return \"Error: Metadata extraction failed\", []\n",
        "\n",
        "    problems = []\n",
        "    comparison_results = []\n",
        "\n",
        "    def check_property(name, detected, required, condition):\n",
        "        status = \"Correct\" if condition else \"Mismatch\"\n",
        "        comparison_results.append(f\"{name}: detected ({detected}) → {status}\")\n",
        "        if not condition:\n",
        "            problems.append(name)\n",
        "\n",
        "    # Compare properties\n",
        "    detected_container = metadata[\"container\"]\n",
        "    check_property(\"Container\", detected_container, expected_format[\"container\"], \"mp4\" in detected_container)\n",
        "    check_property(\"Video Codec\", metadata[\"video_codec\"], expected_format[\"video_codec\"], metadata[\"video_codec\"] == expected_format[\"video_codec\"])\n",
        "    check_property(\"Audio Codec\", metadata[\"audio_codec\"], expected_format[\"audio_codec\"], metadata[\"audio_codec\"] == expected_format[\"audio_codec\"])\n",
        "    check_property(\"Frame Rate\", f\"{metadata['frame_rate']} FPS\", f\"{expected_format['frame_rate']} FPS\", abs(metadata[\"frame_rate\"] - expected_format[\"frame_rate\"]) <= 0.1)\n",
        "    check_property(\"Resolution\", f\"{metadata['resolution_width']}x{metadata['resolution_height']}\", f\"{expected_format['resolution_width']}x{expected_format['resolution_height']}\", metadata[\"resolution_width\"] == expected_format[\"resolution_width\"] and metadata[\"resolution_height\"] == expected_format[\"resolution_height\"])\n",
        "    # Convert bitrates before checking\n",
        "    video_br_mbs = metadata[\"video_br_mbs\"]\n",
        "    audio_br_kbs = metadata[\"audio_br_kbs\"]\n",
        "    check_property(\"Video Bitrate\", f\"{video_br_mbs:.2f} Mbps\", f\"{expected_format['video_br_min_mbs']} - {expected_format['video_br_max_mbs']} Mbps\", expected_format[\"video_br_min_mbs\"] <= video_br_mbs <= expected_format[\"video_br_max_mbs\"])\n",
        "    # Allow slight variation in audio bitrate\n",
        "    tolerance = 10.0\n",
        "    check_property(\"Audio Bitrate\", f\"{audio_br_kbs:.2f} kbps\", f\"≤ {expected_format['audio_br_max_kbs']} kbps\", audio_br_kbs <= expected_format[\"audio_br_max_kbs\"] + tolerance)\n",
        "    check_property(\"Audio Channels\", metadata[\"audio_channels\"], expected_format[\"audio_channels\"], metadata[\"audio_channels\"] == expected_format[\"audio_channels\"])\n",
        "\n",
        "    # Determine overall status\n",
        "    overall_status = \"Format OK\" if not problems else \"Format Incorrect\"\n",
        "\n",
        "    return overall_status, comparison_results\n"
      ]
    },
    {
      "cell_type": "markdown",
      "metadata": {
        "id": "rUiwm8qc3OHA"
      },
      "source": [
        "Automates film format conversion"
      ]
    },
    {
      "cell_type": "code",
      "execution_count": null,
      "metadata": {
        "id": "XaTyy-Lz5HBB"
      },
      "outputs": [],
      "source": [
        "# Converts a video file to the required format\n",
        "def convert_video(input_file, issues):\n",
        "    try:\n",
        "        # Generate output filename with '_formatOK' and in MP4 format\n",
        "        file_name, file_ext = os.path.splitext(input_file)\n",
        "        output_file = f\"{file_name}_formatOK.mp4\"\n",
        "\n",
        "        # Check if only the container is incorrect,\n",
        "        # If only the container is incorrect, remux without reencoding\n",
        "        # If codec, frame rate, resolution, or bitrate are incorrect, perform re-encoding.\n",
        "        container_issue = any(\"Container:\" in issue for issue in issues)\n",
        "        other_issues = any(\"Mismatch\" in issue and \"Container:\" not in issue for issue in issues)\n",
        "\n",
        "        if container_issue and not other_issues:\n",
        "            print(f\"Remuxing {input_file} → {output_file} (container change only)...\")\n",
        "            cmd = [\"ffmpeg\", \"-i\", input_file, \"-c\", \"copy\", output_file]\n",
        "        else:\n",
        "            print(f\"Re-encoding {input_file} → {output_file} (format correction)...\")\n",
        "            cmd = [\n",
        "                \"ffmpeg\", \"-i\", input_file,\n",
        "                \"-c:v\", \"libx264\",      # Convert video to H.264\n",
        "                \"-b:v\", \"2M\",           # Set video bitrate to 2 Mbps\n",
        "                \"-r\", \"25\",             # Set frame rate to 25 FPS\n",
        "                \"-s\", \"640x360\",        # Set resolution to 640x360\n",
        "                \"-c:a\", \"aac\",          # Convert audio to AAC\n",
        "                \"-b:a\", \"256k\",         # Set audio bitrate to 256 kbps\n",
        "                \"-ac\", \"2\",             # Set stereo audio channels\n",
        "                output_file\n",
        "            ]\n",
        "\n",
        "        # Execute FFmpeg\n",
        "        result = subprocess.run(cmd, stdout=subprocess.PIPE, stderr=subprocess.PIPE, text=True)\n",
        "\n",
        "        if result.returncode == 0:\n",
        "            print(f\"Successfully converted: {input_file} → {output_file}\")\n",
        "            return output_file\n",
        "        else:\n",
        "            print(f\"Error converting {input_file}: {result.stderr}\")\n",
        "            return None\n",
        "\n",
        "    except Exception as e:\n",
        "        print(f\"Unexpected error during conversion: {e}\")\n",
        "        return None\n"
      ]
    },
    {
      "cell_type": "markdown",
      "metadata": {
        "id": "25Q9giTy4AuS"
      },
      "source": [
        "Combine whole process to check the file foramt and Generate a report in TXT indicating which films do not respect the digital format specified by the festival and what are the ‘problematic’ fields."
      ]
    },
    {
      "cell_type": "code",
      "execution_count": null,
      "metadata": {
        "id": "sPr0OIixarq8"
      },
      "outputs": [],
      "source": [
        "# Generates a TXT report to summarize the video format verification results\n",
        "def film_format_checker(video_files, report_filename):\n",
        "    report_content = []\n",
        "\n",
        "    report_content.append(\"Video Format Verification Report\\n\")\n",
        "    report_content.append(\"=\"*40 + \"\\n\")\n",
        "\n",
        "    for video in video_files:\n",
        "        report_content.append(f\"File: {os.path.basename(video)}\\n\")\n",
        "\n",
        "        # Extract metadata\n",
        "        metadata = extract_metadata(video)\n",
        "        status, results = compare_format(metadata, EXPECTED_FORMAT)\n",
        "\n",
        "        # Append format check results\n",
        "        report_content.append(f\"Status: {status}\\n\")\n",
        "        for result in results:\n",
        "            report_content.append(f\"   - {result}\")\n",
        "\n",
        "        # Convert the video if incorrect\n",
        "        converted_file = None\n",
        "        if status == \"Format Incorrect\":\n",
        "            issues = [res for res in results if \"Mismatch\" in res]\n",
        "            converted_file = convert_video(video, issues)\n",
        "            if converted_file:\n",
        "                report_content.append(f\"Convert to expected format: {os.path.basename(converted_file)}\\n\")\n",
        "            else:\n",
        "                report_content.append(f\"Conversion Failed!\\n\")\n",
        "        else:\n",
        "            report_content.append(\"No conversion needed.\\n\")\n",
        "\n",
        "        report_content.append(\"=\"*40 + \"\\n\")\n",
        "\n",
        "    # Write to a TXT file\n",
        "    with open(report_filename, \"w\") as report_file:\n",
        "        report_file.writelines(\"\\n\".join(report_content))\n",
        "\n",
        "    print(f\" Report saved as: {report_filename}\")\n",
        "    print(\"\\n\".join(report_content)) # Display report content\n",
        "\n",
        "    return report_filename\n"
      ]
    },
    {
      "cell_type": "code",
      "execution_count": null,
      "metadata": {
        "colab": {
          "base_uri": "https://localhost:8080/",
          "height": 1000
        },
        "id": "byPM5b5kart7",
        "outputId": "9b45cedc-38a2-407a-b4af-9ab9ca7b1518"
      },
      "outputs": [
        {
          "name": "stdout",
          "output_type": "stream",
          "text": [
            "Re-encoding /content/The_Gun_and_the_Pulpit.avi → /content/The_Gun_and_the_Pulpit_formatOK.mp4 (format correction)...\n",
            "Successfully converted: /content/The_Gun_and_the_Pulpit.avi → /content/The_Gun_and_the_Pulpit_formatOK.mp4\n",
            "Re-encoding /content/The_Hill_Gang_Rides_Again.mp4 → /content/The_Hill_Gang_Rides_Again_formatOK.mp4 (format correction)...\n",
            "Successfully converted: /content/The_Hill_Gang_Rides_Again.mp4 → /content/The_Hill_Gang_Rides_Again_formatOK.mp4\n",
            "Re-encoding /content/Cosmos_War_of_the_Planets.mp4 → /content/Cosmos_War_of_the_Planets_formatOK.mp4 (format correction)...\n",
            "Successfully converted: /content/Cosmos_War_of_the_Planets.mp4 → /content/Cosmos_War_of_the_Planets_formatOK.mp4\n",
            "Re-encoding /content/Last_man_on_earth_1964.mov → /content/Last_man_on_earth_1964_formatOK.mp4 (format correction)...\n",
            "Successfully converted: /content/Last_man_on_earth_1964.mov → /content/Last_man_on_earth_1964_formatOK.mp4\n",
            "Re-encoding /content/Voyage_to_the_Planet_of_Prehistoric_Women.mp4 → /content/Voyage_to_the_Planet_of_Prehistoric_Women_formatOK.mp4 (format correction)...\n",
            "Successfully converted: /content/Voyage_to_the_Planet_of_Prehistoric_Women.mp4 → /content/Voyage_to_the_Planet_of_Prehistoric_Women_formatOK.mp4\n",
            " Report saved as: video_format_check.txt\n",
            "Video Format Verification Report\n",
            "\n",
            "========================================\n",
            "\n",
            "File: The_Gun_and_the_Pulpit.avi\n",
            "\n",
            "Status: Format Incorrect\n",
            "\n",
            "   - Container: detected (avi) → Mismatch\n",
            "   - Video Codec: detected (rawvideo) → Mismatch\n",
            "   - Audio Codec: detected (pcm_s16le) → Mismatch\n",
            "   - Frame Rate: detected (25.0 FPS) → Correct\n",
            "   - Resolution: detected (720x404) → Mismatch\n",
            "   - Video Bitrate: detected (88.81 Mbps) → Mismatch\n",
            "   - Audio Bitrate: detected (1536.00 kbps) → Mismatch\n",
            "   - Audio Channels: detected (2) → Correct\n",
            "Convert to expected format: The_Gun_and_the_Pulpit_formatOK.mp4\n",
            "\n",
            "========================================\n",
            "\n",
            "File: The_Hill_Gang_Rides_Again.mp4\n",
            "\n",
            "Status: Format Incorrect\n",
            "\n",
            "   - Container: detected (mov,mp4,m4a,3gp,3g2,mj2) → Correct\n",
            "   - Video Codec: detected (h264) → Correct\n",
            "   - Audio Codec: detected (aac) → Correct\n",
            "   - Frame Rate: detected (25.0 FPS) → Correct\n",
            "   - Resolution: detected (640x360) → Correct\n",
            "   - Video Bitrate: detected (7.78 Mbps) → Mismatch\n",
            "   - Audio Bitrate: detected (253.27 kbps) → Correct\n",
            "   - Audio Channels: detected (2) → Correct\n",
            "Convert to expected format: The_Hill_Gang_Rides_Again_formatOK.mp4\n",
            "\n",
            "========================================\n",
            "\n",
            "File: Cosmos_War_of_the_Planets.mp4\n",
            "\n",
            "Status: Format Incorrect\n",
            "\n",
            "   - Container: detected (mov,mp4,m4a,3gp,3g2,mj2) → Correct\n",
            "   - Video Codec: detected (h264) → Correct\n",
            "   - Audio Codec: detected (aac) → Correct\n",
            "   - Frame Rate: detected (29.97002997002997 FPS) → Mismatch\n",
            "   - Resolution: detected (628x354) → Mismatch\n",
            "   - Video Bitrate: detected (3.31 Mbps) → Correct\n",
            "   - Audio Bitrate: detected (317.10 kbps) → Mismatch\n",
            "   - Audio Channels: detected (2) → Correct\n",
            "Convert to expected format: Cosmos_War_of_the_Planets_formatOK.mp4\n",
            "\n",
            "========================================\n",
            "\n",
            "File: Last_man_on_earth_1964.mov\n",
            "\n",
            "Status: Format Incorrect\n",
            "\n",
            "   - Container: detected (mov,mp4,m4a,3gp,3g2,mj2) → Correct\n",
            "   - Video Codec: detected (prores) → Mismatch\n",
            "   - Audio Codec: detected (pcm_s16le) → Mismatch\n",
            "   - Frame Rate: detected (23.976023976023978 FPS) → Mismatch\n",
            "   - Resolution: detected (640x360) → Correct\n",
            "   - Video Bitrate: detected (11.24 Mbps) → Mismatch\n",
            "   - Audio Bitrate: detected (1536.00 kbps) → Mismatch\n",
            "   - Audio Channels: detected (2) → Correct\n",
            "Convert to expected format: Last_man_on_earth_1964_formatOK.mp4\n",
            "\n",
            "========================================\n",
            "\n",
            "File: Voyage_to_the_Planet_of_Prehistoric_Women.mp4\n",
            "\n",
            "Status: Format Incorrect\n",
            "\n",
            "   - Container: detected (mov,mp4,m4a,3gp,3g2,mj2) → Correct\n",
            "   - Video Codec: detected (hevc) → Mismatch\n",
            "   - Audio Codec: detected (mp3) → Mismatch\n",
            "   - Frame Rate: detected (29.97002997002997 FPS) → Mismatch\n",
            "   - Resolution: detected (640x360) → Correct\n",
            "   - Video Bitrate: detected (8.34 Mbps) → Mismatch\n",
            "   - Audio Bitrate: detected (320.00 kbps) → Mismatch\n",
            "   - Audio Channels: detected (2) → Correct\n",
            "Convert to expected format: Voyage_to_the_Planet_of_Prehistoric_Women_formatOK.mp4\n",
            "\n",
            "========================================\n",
            "\n"
          ]
        },
        {
          "data": {
            "application/vnd.google.colaboratory.intrinsic+json": {
              "type": "string"
            },
            "text/plain": [
              "'video_format_check.txt'"
            ]
          },
          "execution_count": 16,
          "metadata": {},
          "output_type": "execute_result"
        }
      ],
      "source": [
        "video_files = [\n",
        "    \"/content/The_Gun_and_the_Pulpit.avi\",\n",
        "    \"/content/The_Hill_Gang_Rides_Again.mp4\",\n",
        "    \"/content/Cosmos_War_of_the_Planets.mp4\",\n",
        "    \"/content/Last_man_on_earth_1964.mov\",\n",
        "    \"/content/Voyage_to_the_Planet_of_Prehistoric_Women.mp4\"\n",
        "]\n",
        "\n",
        "film_format_checker(video_files, \"video_format_check.txt\")"
      ]
    },
    {
      "cell_type": "markdown",
      "metadata": {
        "id": "_2o3xNL-6LFv"
      },
      "source": [
        "Verify converted files to confirm they align with the expected format"
      ]
    },
    {
      "cell_type": "code",
      "execution_count": null,
      "metadata": {
        "id": "GfZpodXUjX0_"
      },
      "outputs": [],
      "source": [
        "# Function to recheck all converted files to confirm they align with the expected format.\n",
        "def verify_converted_files(converted_files):\n",
        "    print(\"Verifying Converted Video:\")\n",
        "    print(\"=\" * 40)\n",
        "\n",
        "    for converted_video in converted_files:\n",
        "        print(f\"Checking: {os.path.basename(converted_video)}\")\n",
        "\n",
        "        # Extract metadata\n",
        "        metadata = extract_metadata(converted_video)\n",
        "        status, results = compare_format(metadata, EXPECTED_FORMAT)\n",
        "\n",
        "        # Print verification results\n",
        "        print(f\"Status: {status}\")\n",
        "        if status == \"Format OK\":\n",
        "            print(\"File meets all format requirements.\")\n",
        "        else:\n",
        "            print(\"Issues still detected after conversion!\")\n",
        "            for result in results:\n",
        "                print(f\"   - {result}\")\n",
        "\n",
        "        print(\"=\" * 40)"
      ]
    },
    {
      "cell_type": "code",
      "execution_count": null,
      "metadata": {
        "colab": {
          "base_uri": "https://localhost:8080/"
        },
        "id": "kqkdNHg5naHj",
        "outputId": "df09eed6-157a-4ab8-b24b-d44370c7dbf7"
      },
      "outputs": [
        {
          "name": "stdout",
          "output_type": "stream",
          "text": [
            "Verifying Converted Video:\n",
            "========================================\n",
            "Checking: The_Gun_and_the_Pulpit_formatOK.mp4\n",
            "Status: Format OK\n",
            "File meets all format requirements.\n",
            "========================================\n",
            "Checking: The_Hill_Gang_Rides_Again_formatOK.mp4\n",
            "Status: Format OK\n",
            "File meets all format requirements.\n",
            "========================================\n",
            "Checking: Cosmos_War_of_the_Planets_formatOK.mp4\n",
            "Status: Format OK\n",
            "File meets all format requirements.\n",
            "========================================\n",
            "Checking: Last_man_on_earth_1964_formatOK.mp4\n",
            "Status: Format OK\n",
            "File meets all format requirements.\n",
            "========================================\n",
            "Checking: Voyage_to_the_Planet_of_Prehistoric_Women_formatOK.mp4\n",
            "Status: Format OK\n",
            "File meets all format requirements.\n",
            "========================================\n"
          ]
        }
      ],
      "source": [
        "converted_video_files = [\n",
        "    \"/content/The_Gun_and_the_Pulpit_formatOK.mp4\",\n",
        "    \"/content/The_Hill_Gang_Rides_Again_formatOK.mp4\",\n",
        "    \"/content/Cosmos_War_of_the_Planets_formatOK.mp4\",\n",
        "    \"/content/Last_man_on_earth_1964_formatOK.mp4\",\n",
        "    \"/content/Voyage_to_the_Planet_of_Prehistoric_Women_formatOK.mp4\"\n",
        "]\n",
        "\n",
        "verify_converted_files(converted_video_files)"
      ]
    },
    {
      "cell_type": "code",
      "execution_count": null,
      "metadata": {
        "id": "Y4AhXrINuC2T"
      },
      "outputs": [],
      "source": []
    },
    {
      "cell_type": "code",
      "execution_count": null,
      "metadata": {
        "id": "D-FTJixDuC5r"
      },
      "outputs": [],
      "source": []
    }
  ],
  "metadata": {
    "colab": {
      "provenance": []
    },
    "kernelspec": {
      "display_name": "Python 3",
      "name": "python3"
    },
    "language_info": {
      "name": "python"
    }
  },
  "nbformat": 4,
  "nbformat_minor": 0
}
